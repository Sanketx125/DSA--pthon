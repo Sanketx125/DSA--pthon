{
 "cells": [
  {
   "cell_type": "markdown",
   "id": "ca5d9860-e75f-4cd4-9fb0-316e524e49a1",
   "metadata": {},
   "source": [
    "# Selection Sort:       ------------> O(n^2)"
   ]
  },
  {
   "attachments": {
    "46d988b0-2a15-4d12-ba52-6b0937ca384a.png": {
     "image/png": "[encoded data removed]"
    }
   },
   "cell_type": "markdown",
   "id": "8a953e67-49be-4495-825e-4b5f3e17d597",
   "metadata": {},
   "source": [
    "   * Selection Sort is a simple comparison-based sorting algorithm. It works by dividing the input list into two parts: the sublist of items already sorted, which is built up from left to right at the front of the list, and the sublist of items remaining to be sorted that occupy the rest of the list. Initially, the sorted sublist is empty, and the unsorted sublist is the entire input list. The algorithm proceeds by finding the smallest element from the unsorted sublist, swapping it with the leftmost unsorted element (putting it in sorted order), and moving the sublist boundaries one element to the right.\n",
    "\n",
    "## Steps of Selection Sort:\n",
    "* Select the Minimum Element: From the unsorted part of the list, find the minimum element.\n",
    "* \n",
    "* Swap with First Unsorted Element: Swap the minimum element with the first element of the unsorted part.\n",
    "\n",
    "* Expand the Sorted Sublist: Move the boundary between the sorted and unsorted parts one element to the right.\n",
    "\n",
    "* Repeat: Repeat the process until the entire list is sorted.\n",
    "\n",
    "\n",
    "\n",
    "\n",
    "* \n",
    "![image.png](attachment:46d988b0-2a15-4d12-ba52-6b0937ca384a.png)"
   ]
  },
  {
   "cell_type": "code",
   "execution_count": null,
   "id": "9802b67a-16ae-4be1-86b5-689d2666f711",
   "metadata": {},
   "outputs": [],
   "source": []
  },
  {
   "cell_type": "code",
   "execution_count": 1,
   "id": "41c865c0-c73f-4021-b26b-bc15b91e6c04",
   "metadata": {},
   "outputs": [],
   "source": [
    "def Selection_sort(arr, n):\n",
    "    for i in range(n):\n",
    "        # first element in sorted list\n",
    "        min_index = i\n",
    "        for j in range( i+1, n):\n",
    "            if arr[j] < arr[min_index]:\n",
    "                min_index = j\n",
    "         # swapping       \n",
    "        arr[i], arr[min_index] = arr[min_index], arr[i]"
   ]
  },
  {
   "cell_type": "code",
   "execution_count": 2,
   "id": "4f2b538d-f402-4218-b694-3647d221195e",
   "metadata": {},
   "outputs": [
    {
     "name": "stdin",
     "output_type": "stream",
     "text": [
      "Enter Size of List 5\n"
     ]
    },
    {
     "name": "stdout",
     "output_type": "stream",
     "text": [
      "Enter Elements : \n"
     ]
    },
    {
     "name": "stdin",
     "output_type": "stream",
     "text": [
      " 50\n",
      " 40\n",
      " 20\n",
      " 30\n",
      " 10\n"
     ]
    },
    {
     "name": "stdout",
     "output_type": "stream",
     "text": [
      "Before Sorting:  [50, 40, 20, 30, 10]\n",
      "After Sorting:  [10, 20, 30, 40, 50]\n"
     ]
    }
   ],
   "source": [
    "n = int(input(\"Enter Size of List\"))\n",
    "arr = []\n",
    "\n",
    "print(\"Enter Elements : \")\n",
    "for i in range(n):\n",
    "    data = int(input())\n",
    "    arr.append(data)\n",
    "\n",
    "print(\"Before Sorting: \", arr)\n",
    "\n",
    "Selection_sort(arr, n)\n",
    "print(\"After Sorting: \",arr)"
   ]
  },
  {
   "cell_type": "code",
   "execution_count": null,
   "id": "c7db8141-e3a6-4725-8cd0-b3c18a74e0a4",
   "metadata": {},
   "outputs": [],
   "source": []
  }
 ],
 "metadata": {
  "kernelspec": {
   "display_name": "Python 3 (ipykernel)",
   "language": "python",
   "name": "python3"
  },
  "language_info": {
   "codemirror_mode": {
    "name": "ipython",
    "version": 3
   },
   "file_extension": ".py",
   "mimetype": "text/x-python",
   "name": "python",
   "nbconvert_exporter": "python",
   "pygments_lexer": "ipython3",
   "version": "3.12.4"
  }
 },
 "nbformat": 4,
 "nbformat_minor": 5
}
