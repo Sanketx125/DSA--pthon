{
 "cells": [
  {
   "cell_type": "markdown",
   "id": "a8296a89-70d4-49ed-b0ba-b30194360bdd",
   "metadata": {},
   "source": [
    "# Insertion Sort:            -----------> O(n^2)"
   ]
  },
  {
   "attachments": {
    "62bb709d-244f-441d-8780-edbd44377762.png": {
     "image/png": "[encoded data removed]"
    }
   },
   "cell_type": "markdown",
   "id": "d1abee5e-4030-4da9-8ae4-f61013942568",
   "metadata": {},
   "source": [
    "   * Insertion Sort is a simple and intuitive sorting algorithm. It works by building a sorted array one element at a time, inserting each new element into its correct position within the already sorted part of the array.\n",
    "\n",
    "\n",
    "## 1.Steps of Insertion Sort:\n",
    "* Start from the Second Element: Begin with the second element (since a single-element list is already sorted).\n",
    "  \n",
    "* Compare and Shift: Compare the current element with the elements in the sorted part of the array. Shift all elements in the sorted part that are greater than the current element to the right.\n",
    "  \n",
    "* Insert: Insert the current element into its correct position within the sorted part of the array.\n",
    "\n",
    "* Repeat: Repeat the process for each element in the array until the entire array is sorted.\n",
    "\n",
    "---\n",
    "![image.png](attachment:62bb709d-244f-441d-8780-edbd44377762.png)"
   ]
  },
  {
   "cell_type": "code",
   "execution_count": 1,
   "id": "f73bfee2-c117-4116-a771-ae745e3d6d65",
   "metadata": {},
   "outputs": [],
   "source": [
    "\n",
    "def insetion_sort(arr, n):\n",
    "    for i in range (1, n):  # loop starts from 2nd element\n",
    "        temp = arr[i]\n",
    "        \n",
    "        j = i-1   # loop for sorted list which starts from first element\n",
    "        while j >= 0 and temp < arr[j]:    # here we checking temp(2nd) value is less than j'th (1st) value\n",
    "            arr[j+1] = arr[j]      # 2nd value putting with 1st (lesser) value\n",
    "            j -=1\n",
    "        arr[j+1] = temp   # in 2nd value putting 1st (greater) value\n",
    "            \n",
    "        "
   ]
  },
  {
   "cell_type": "code",
   "execution_count": 3,
   "id": "7d652821-b552-4769-be6b-67af3ed7138f",
   "metadata": {},
   "outputs": [
    {
     "name": "stdin",
     "output_type": "stream",
     "text": [
      "Enter Size of List 5\n"
     ]
    },
    {
     "name": "stdout",
     "output_type": "stream",
     "text": [
      "Enter Elements : \n"
     ]
    },
    {
     "name": "stdin",
     "output_type": "stream",
     "text": [
      " 50\n",
      " 40\n",
      " 20\n",
      " 30\n",
      " 10\n"
     ]
    },
    {
     "name": "stdout",
     "output_type": "stream",
     "text": [
      "Before Sorting: [50, 40, 20, 30, 10]\n",
      "After Sorting:  [10, 20, 30, 40, 50]\n"
     ]
    }
   ],
   "source": [
    "n = int(input(\"Enter Size of List\"))\n",
    "arr = []\n",
    "\n",
    "print(\"Enter Elements : \")\n",
    "for i in range(n):\n",
    "    data = int(input())\n",
    "    arr.append(data)\n",
    "\n",
    "print(\"Before Sorting:\", arr)\n",
    "\n",
    "insetion_sort(arr, n)\n",
    "print(\"After Sorting: \",arr)"
   ]
  },
  {
   "cell_type": "code",
   "execution_count": null,
   "id": "2745b312-d5cd-4ddc-b93e-c863e7113481",
   "metadata": {},
   "outputs": [],
   "source": []
  }
 ],
 "metadata": {
  "kernelspec": {
   "display_name": "Python 3 (ipykernel)",
   "language": "python",
   "name": "python3"
  },
  "language_info": {
   "codemirror_mode": {
    "name": "ipython",
    "version": 3
   },
   "file_extension": ".py",
   "mimetype": "text/x-python",
   "name": "python",
   "nbconvert_exporter": "python",
   "pygments_lexer": "ipython3",
   "version": "3.12.4"
  }
 },
 "nbformat": 4,
 "nbformat_minor": 5
}
