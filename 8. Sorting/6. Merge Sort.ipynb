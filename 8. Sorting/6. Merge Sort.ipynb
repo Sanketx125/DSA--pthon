{
 "cells": [
  {
   "cell_type": "markdown",
   "id": "4282d089-0d30-4d5a-b656-0c890131680a",
   "metadata": {},
   "source": [
    "# Merge Sort: -----------> O( n.logn )"
   ]
  },
  {
   "cell_type": "markdown",
   "id": "f80474fe-a766-43b0-a306-a5cfe9767819",
   "metadata": {},
   "source": [
    "   * Merge Sort is an efficient, stable, and comparison-based sorting algorithm that follows the divide-and-conquer paradigm. It divides the input array into two halves, recursively sorts the halves, and then merges the sorted halves to produce the sorted array."
   ]
  },
  {
   "cell_type": "markdown",
   "id": "9f5fe6d3-d388-42d1-9f63-0b00d436c4ff",
   "metadata": {},
   "source": [
    "## Steps of Merge Sort:\n",
    "\n",
    "\n",
    "* Divide: If the array has more than one element, divide it into two halves.\n",
    "\n",
    "* Recursively Sort: Recursively apply merge sort to the two halves.\n",
    "\n",
    "* Merge: Merge the two sorted halves into a single sorted array."
   ]
  },
  {
   "cell_type": "code",
   "execution_count": 7,
   "id": "89359910-a7d9-43d6-852d-c7501dfa3d48",
   "metadata": {},
   "outputs": [],
   "source": [
    "def merge_sort(arr, n):\n",
    "    if n > 1:\n",
    "        mid = len(arr)//2\n",
    "\n",
    "        # Slicing list\n",
    "        left = arr[ :mid]\n",
    "        right = arr[mid:]\n",
    "\n",
    "        merge_sort(left, len(left))\n",
    "        merge_sort(right, len(right))\n",
    "\n",
    "        i = j = k = 0\n",
    "        while (i < len(left)) and (j < len(right)):\n",
    "            if left[i] < right[j]:\n",
    "                arr[k] = left[i]\n",
    "                i+=1\n",
    "            else:\n",
    "                arr[k]= right[j]\n",
    "                j+=1\n",
    "            k+=1\n",
    "        while i < len(left):\n",
    "            arr[k] = left[i]\n",
    "            i+=1\n",
    "            k+=1\n",
    "        while j < len(right):\n",
    "            arr[k] = right[j]\n",
    "            j+=1\n",
    "            k+=1\n",
    "        \n",
    "    \n",
    "    "
   ]
  },
  {
   "cell_type": "code",
   "execution_count": 9,
   "id": "7d4ce25e-1d63-4513-b0ba-e1d1e8787240",
   "metadata": {},
   "outputs": [
    {
     "name": "stdin",
     "output_type": "stream",
     "text": [
      "Enter Size of List:  10\n"
     ]
    },
    {
     "name": "stdout",
     "output_type": "stream",
     "text": [
      "Enter item: \n"
     ]
    },
    {
     "name": "stdin",
     "output_type": "stream",
     "text": [
      " 5\n",
      " 4\n",
      " 2\n",
      " 4\n",
      " 6\n",
      " 7\n",
      " 8\n",
      " 9\n",
      " 10\n",
      " 20\n"
     ]
    },
    {
     "name": "stdout",
     "output_type": "stream",
     "text": [
      "[2, 4, 4, 5, 6, 7, 8, 9, 10, 20]\n"
     ]
    }
   ],
   "source": [
    "n = int(input(\"Enter Size of List: \"))\n",
    "arr = []\n",
    "\n",
    "print(\"Enter item: \")\n",
    "for i in range(n):\n",
    "    data = int(input())\n",
    "    arr.append(data)\n",
    "\n",
    "merge_sort(arr, n)\n",
    "print(arr)"
   ]
  },
  {
   "cell_type": "code",
   "execution_count": null,
   "id": "42a9d680-1744-4d0c-9365-a87a27c7e740",
   "metadata": {},
   "outputs": [],
   "source": []
  }
 ],
 "metadata": {
  "kernelspec": {
   "display_name": "Python 3 (ipykernel)",
   "language": "python",
   "name": "python3"
  },
  "language_info": {
   "codemirror_mode": {
    "name": "ipython",
    "version": 3
   },
   "file_extension": ".py",
   "mimetype": "text/x-python",
   "name": "python",
   "nbconvert_exporter": "python",
   "pygments_lexer": "ipython3",
   "version": "3.12.4"
  }
 },
 "nbformat": 4,
 "nbformat_minor": 5
}
