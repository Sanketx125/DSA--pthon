{
 "cells": [
  {
   "attachments": {
    "cdab5a3a-ee2b-4c4f-be0e-fe235c4b4b00.png": {
     "image/png": "[encoded data removed]"
    }
   },
   "cell_type": "markdown",
   "id": "7d9d5d46-bbee-4324-bcb6-43569989edc0",
   "metadata": {},
   "source": [
    "# Quick Sort:  ----------------> O(n log n) on average, O(n^2) in the worst case\n",
    "   * Quick Sort is an efficient and widely used sorting algorithm. It follows the divide-and-conquer approach to sort elements by partitioning the array into subarrays and recursively sorting those subarrays.\n",
    "\n",
    "\n",
    "## Steps of Quick Sort:\n",
    "* Choose a Pivot: Select an element from the array to serve as the pivot.\n",
    "\n",
    "* Partitioning: Rearrange the array such that all elements less than the pivot come before it, and all elements greater than the pivot come after it. The pivot element will be in its correct position.\n",
    "\n",
    "* Recursively Sort Subarrays: Apply the same process to the subarrays on either side of the pivot.\n",
    "---\n",
    "\n",
    "![image.png](attachment:cdab5a3a-ee2b-4c4f-be0e-fe235c4b4b00.png)"
   ]
  },
  {
   "cell_type": "code",
   "execution_count": 11,
   "id": "a22efea0-7cca-4693-946a-adce2cba23e7",
   "metadata": {},
   "outputs": [],
   "source": [
    "def Quick_sort(arr):\n",
    "    if len(arr) <=1:\n",
    "        return arr\n",
    "    else:\n",
    "        pivot = arr[0]\n",
    "        lesser = [ x for x in arr[1:] if x <= pivot ]\n",
    "        greater = [ x for x in arr[1:] if x > pivot]\n",
    "        return Quick_sort( lesser ) + [pivot] + Quick_sort( greater)\n",
    "    "
   ]
  },
  {
   "cell_type": "code",
   "execution_count": 12,
   "id": "4de75445-a839-45fe-a9be-d383b2dda491",
   "metadata": {},
   "outputs": [
    {
     "name": "stdin",
     "output_type": "stream",
     "text": [
      "Enter Size of List:  5\n"
     ]
    },
    {
     "name": "stdout",
     "output_type": "stream",
     "text": [
      "Enter item: \n"
     ]
    },
    {
     "name": "stdin",
     "output_type": "stream",
     "text": [
      " 5\n",
      " 4\n",
      " 2\n",
      " 1\n",
      " 3\n"
     ]
    },
    {
     "data": {
      "text/plain": [
       "[1, 2, 3, 4, 5]"
      ]
     },
     "execution_count": 12,
     "metadata": {},
     "output_type": "execute_result"
    }
   ],
   "source": [
    "n = int(input(\"Enter Size of List: \"))\n",
    "arr = []\n",
    "\n",
    "print(\"Enter item: \")\n",
    "for i in range(n):\n",
    "    data = int(input())\n",
    "    arr.append(data)\n",
    "\n",
    "Quick_sort(arr)\n"
   ]
  },
  {
   "cell_type": "code",
   "execution_count": null,
   "id": "26f548b7-4a17-4917-a017-e8b01a285e64",
   "metadata": {},
   "outputs": [],
   "source": []
  }
 ],
 "metadata": {
  "kernelspec": {
   "display_name": "Python 3 (ipykernel)",
   "language": "python",
   "name": "python3"
  },
  "language_info": {
   "codemirror_mode": {
    "name": "ipython",
    "version": 3
   },
   "file_extension": ".py",
   "mimetype": "text/x-python",
   "name": "python",
   "nbconvert_exporter": "python",
   "pygments_lexer": "ipython3",
   "version": "3.12.4"
  }
 },
 "nbformat": 4,
 "nbformat_minor": 5
}
