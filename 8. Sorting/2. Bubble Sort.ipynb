{
 "cells": [
  {
   "cell_type": "markdown",
   "id": "d11e64d5-1be1-41fe-8d04-17ff5c3ed72a",
   "metadata": {},
   "source": [
    "# Bubble Sort:  ----->    O(n^2)"
   ]
  },
  {
   "cell_type": "markdown",
   "id": "2287a8ce-ca94-4981-99a0-4f43d8eabf07",
   "metadata": {},
   "source": [
    "* Bubble Sort is a simple sorting algorithm that works by repeatedly stepping through the list to be sorted, comparing each pair of adjacent items, and swapping them if they are in the wrong order. The pass through the list is repeated until no swaps are needed, which means the list is sorted.\n",
    "\n",
    "## Steps of Bubble Sort:\n",
    "Compare Adjacent Elements: Compare each pair of adjacent elements in the list.\n",
    "\n",
    "Swap If Necessary: If a pair is in the wrong order (the first element is greater than the second), swap them.\n",
    "\n",
    "Repeat: Repeat the process for each element in the list, except for the last sorted elements, which are already in the correct position.\n",
    "\n",
    "Continue Until Sorted: Continue the process until a full pass is made without any swaps, indicating that the list is sorted.\n",
    "\n",
    "## Example:\n",
    "Here's an example of Bubble Sort in action:\n",
    "\n",
    "Initial List: [5, 2, 9, 1, 5, 6]\n",
    "\n",
    "#### Pass 1:\n",
    "\n",
    "Compare 5 and 2, swap because 5 > 2: [2, 5, 9, 1, 5, 6]\n",
    "\n",
    "Compare 5 and 9, no swap needed: [2, 5, 9, 1, 5, 6]\n",
    "\n",
    "Compare 9 and 1, swap because 9 > 1: [2, 5, 1, 9, 5, 6]\n",
    "\n",
    "Compare 9 and 5, swap because 9 > 5: [2, 5, 1, 5, 9, 6]\n",
    "\n",
    "Compare 9 and 6, swap because 9 > 6: [2, 5, 1, 5, 6, 9]\n",
    "\n",
    "#### Pass 2:\n",
    "\n",
    "Compare 2 and 5, no swap needed: [2, 5, 1, 5, 6, 9]\n",
    "\n",
    "Compare 5 and 1, swap because 5 > 1: [2, 1, 5, 5, 6, 9]\n",
    "\n",
    "Compare 5 and 5, no swap needed: [2, 1, 5, 5, 6, 9]\n",
    "\n",
    "Compare 5 and 6, no swap needed: [2, 1, 5, 5, 6, 9]\n",
    "\n",
    "#### Pass 3:\n",
    "\n",
    "Compare 2 and 1, swap because 2 > 1: [1, 2, 5, 5, 6, 9]\n",
    "\n",
    "Compare 2 and 5, no swap needed: [1, 2, 5, 5, 6, 9]\n",
    "\n",
    "Compare 5 and 5, no swap needed: [1, 2, 5, 5, 6, 9]\n",
    "\n",
    "## Now the list is sorted: [1, 2, 5, 5, 6, 9]"
   ]
  },
  {
   "cell_type": "markdown",
   "id": "fb56c89a-398f-495c-88d9-2fc263c1cd5a",
   "metadata": {},
   "source": [
    "--------\n",
    "# Modified Bubbul Sort:"
   ]
  },
  {
   "attachments": {
    "d33e65aa-bbec-4a43-b785-f40991dc0175.png": {
     "image/png": "[encoded data removed]"
    }
   },
   "cell_type": "markdown",
   "id": "7e591827-2dd5-44da-bd47-446810e73ebb",
   "metadata": {},
   "source": [
    "* Modified Bubble Sort improves upon the basic Bubble Sort algorithm by optimizing it to terminate early if the list is already sorted. This optimization can significantly reduce the number of iterations, especially for nearly sorted lists.\n",
    "\n",
    "* \n",
    "* ![image.png](attachment:d33e65aa-bbec-4a43-b785-f40991dc0175.png)"
   ]
  },
  {
   "cell_type": "code",
   "execution_count": 16,
   "id": "cb4763f1-eefc-41ce-995d-629202a2a9f2",
   "metadata": {},
   "outputs": [],
   "source": [
    "def Modified_bubble_sort(arr, n):\n",
    "    for i in range(n):\n",
    "        swapped = False\n",
    "        for j in range( n-i-1):\n",
    "            if ( arr[j] > arr[j+1]):\n",
    "                arr[j], arr[j+1] = arr[j+1], arr[j]\n",
    "                swapeed = True\n",
    "            if not swapeed:\n",
    "                break"
   ]
  },
  {
   "cell_type": "code",
   "execution_count": 17,
   "id": "10608b1a-3c2b-4709-9024-9a6428c76664",
   "metadata": {},
   "outputs": [],
   "source": [
    "def bubble_sort(arr, n):\n",
    "    for i in range(n):\n",
    "        for j in range( n-i-1):\n",
    "            if ( arr[j] > arr[j+1]):\n",
    "                arr[j], arr[j+1] = arr[j+1], arr[j]\n",
    "                swapeed = True\n"
   ]
  },
  {
   "cell_type": "code",
   "execution_count": 18,
   "id": "c84dd7f4-8e59-4522-a757-fa3be2a3ae27",
   "metadata": {},
   "outputs": [
    {
     "name": "stdin",
     "output_type": "stream",
     "text": [
      "Enter Size of List 5\n"
     ]
    },
    {
     "name": "stdout",
     "output_type": "stream",
     "text": [
      "Enter Elements : \n"
     ]
    },
    {
     "name": "stdin",
     "output_type": "stream",
     "text": [
      " 10\n",
      " 50\n",
      " 30\n",
      " 40\n",
      " 20\n"
     ]
    },
    {
     "name": "stdout",
     "output_type": "stream",
     "text": [
      "Before Sorting:  [10, 50, 30, 40, 20]\n",
      "After Sorting:  [10, 20, 30, 40, 50]\n"
     ]
    }
   ],
   "source": [
    "n = int(input(\"Enter Size of List\"))\n",
    "arr = []\n",
    "\n",
    "print(\"Enter Elements : \")\n",
    "for i in range(n):\n",
    "    data = int(input())\n",
    "    arr.append(data)\n",
    "\n",
    "print(\"Before Sorting: \", arr)\n",
    "\n",
    "bubble_sort(arr, n)\n",
    "print(\"After Sorting: \",arr)\n"
   ]
  },
  {
   "cell_type": "code",
   "execution_count": null,
   "id": "fa26ddfa-5e66-4b1f-a965-01043734d8c3",
   "metadata": {},
   "outputs": [],
   "source": []
  }
 ],
 "metadata": {
  "kernelspec": {
   "display_name": "Python 3 (ipykernel)",
   "language": "python",
   "name": "python3"
  },
  "language_info": {
   "codemirror_mode": {
    "name": "ipython",
    "version": 3
   },
   "file_extension": ".py",
   "mimetype": "text/x-python",
   "name": "python",
   "nbconvert_exporter": "python",
   "pygments_lexer": "ipython3",
   "version": "3.12.4"
  }
 },
 "nbformat": 4,
 "nbformat_minor": 5
}
