{
 "cells": [
  {
   "cell_type": "markdown",
   "id": "eeecb2b4-61e3-4dd7-879b-e21730d39849",
   "metadata": {},
   "source": [
    "# Sorting:\n"
   ]
  },
  {
   "cell_type": "markdown",
   "id": "5c4f6141-78dc-4700-a78d-092235c8ce46",
   "metadata": {},
   "source": [
    "* Arranging data elements in some logical order is known as sorting.\n",
    "* when elements are numbers, sorting means arranging numbers in ascending order\n",
    "* when elements are stings, sorting means ascending strings in dictionary order."
   ]
  },
  {
   "cell_type": "markdown",
   "id": "e2f4819f-2747-447a-b70c-eca91e1649dd",
   "metadata": {},
   "source": [
    "### 1. Various Sorting Algorithms"
   ]
  },
  {
   "cell_type": "markdown",
   "id": "ecd9d280-b3d5-4f46-bd1b-2ff1ad477ade",
   "metadata": {},
   "source": [
    "   * Bubble Sort\n",
    "   * Modified Bubbule sort\n",
    "   * Selection Sort\n",
    "   * Insertion Sort\n",
    "   * Quick Sort\n",
    "   * Merge sort\n",
    "   * Heam Sort"
   ]
  },
  {
   "cell_type": "code",
   "execution_count": null,
   "id": "aa8b52ac-6008-4073-951e-6665d2ba7336",
   "metadata": {},
   "outputs": [],
   "source": []
  }
 ],
 "metadata": {
  "kernelspec": {
   "display_name": "Python 3 (ipykernel)",
   "language": "python",
   "name": "python3"
  },
  "language_info": {
   "codemirror_mode": {
    "name": "ipython",
    "version": 3
   },
   "file_extension": ".py",
   "mimetype": "text/x-python",
   "name": "python",
   "nbconvert_exporter": "python",
   "pygments_lexer": "ipython3",
   "version": "3.12.4"
  }
 },
 "nbformat": 4,
 "nbformat_minor": 5
}
