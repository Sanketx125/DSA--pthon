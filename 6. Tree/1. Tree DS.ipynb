{
 "cells": [
  {
   "cell_type": "markdown",
   "id": "4bb456bb-127f-45c3-8d16-21db7f4490b0",
   "metadata": {},
   "source": [
    "# Tree"
   ]
  },
  {
   "cell_type": "markdown",
   "id": "9370c020-9f84-46d9-a9f0-9accbc8215cf",
   "metadata": {},
   "source": [
    "* A tree is a hierarchical data structure consisting of nodes connected by edges. It has a single root node and every other node is connected by a single path from the root.\n",
    "\n",
    " --------------------------------------- \n",
    "\n",
    "### 2. Root: \n",
    "* The topmost node of a tree, which doesn't have any parent. It is the starting point of the tree.\n",
    "\n",
    "### 3. Node:\n",
    "* An element of a tree, which contains data and may have references to other nodes (its children).\n",
    "\n",
    "### 4. Edge:\n",
    "* A connection between two nodes in a tree. Each edge connects a parent node to a child node.\n",
    "\n",
    "### 5. Parent: \n",
    "* A node that has one or more child nodes.\n",
    "\n",
    "### 6. Child:\n",
    "* A node that is directly connected to another node (its parent).\n",
    "\n",
    "### 7. Leaf:\n",
    "* A node that does not have any children. It is the end point of a branch.\n",
    "\n",
    "### 8. Subtree:\n",
    "* A tree that consists of a node and all of its descendants.\n",
    "\n",
    "### 9. Depth: \n",
    "* The depth of a node is the number of edges from the root to that node.\n",
    "\n",
    "### 10. Height: \n",
    "* The height of a tree is the number of edges on the longest path from the root to a leaf.\n",
    "* The height of a node is the number of edges on the longest path from that node to a leaf.\n",
    "\n",
    "### 11. Binary Tree:\n",
    "* A tree in which each node has at most two children, referred to as the left child and the right child.\n",
    "\n",
    "### 12. Balanced Tree:\n",
    "* A tree in which the height of the left and right subtrees of any node differ by no more than one.\n",
    "\n",
    "### 13. Binary Search Tree (BST): \n",
    "* A binary tree in which the left child of a node contains only nodes with keys less than the node’s key, and the right child only nodes with keys greater than the node’s key.\n",
    "\n",
    "### 14. Traversal: \n",
    "* The process of visiting all the nodes in a tree in a specific order. Common types include in-order, pre-order, and post-order traversal.\n",
    "\n",
    "### 15. Ancestor: \n",
    "* Any node that is higher in the tree hierarchy (closer to the root) relative to a given node.\n",
    "\n",
    "### Descendant: \n",
    "* Any node that is lower in the tree hierarchy (further from the root) relative to a given node."
   ]
  },
  {
   "cell_type": "code",
   "execution_count": null,
   "id": "678a765e-c422-4ba8-a1b6-4abb0ed31842",
   "metadata": {},
   "outputs": [],
   "source": []
  }
 ],
 "metadata": {
  "kernelspec": {
   "display_name": "Python 3 (ipykernel)",
   "language": "python",
   "name": "python3"
  },
  "language_info": {
   "codemirror_mode": {
    "name": "ipython",
    "version": 3
   },
   "file_extension": ".py",
   "mimetype": "text/x-python",
   "name": "python",
   "nbconvert_exporter": "python",
   "pygments_lexer": "ipython3",
   "version": "3.12.4"
  }
 },
 "nbformat": 4,
 "nbformat_minor": 5
}
