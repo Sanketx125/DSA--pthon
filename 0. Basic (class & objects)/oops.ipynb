{
 "cells": [
  {
   "cell_type": "markdown",
   "id": "5407ed9b-0754-4c80-8879-a2c6474c56f2",
   "metadata": {},
   "source": [
    "## OOP's"
   ]
  },
  {
   "cell_type": "markdown",
   "id": "3f41a0f3-78da-4f1a-9987-7d6432cbf884",
   "metadata": {},
   "source": [
    "1.Encapsulation:\n",
    "--"
   ]
  },
  {
   "cell_type": "markdown",
   "id": "172dba82-a0ab-41b7-a73c-264b836e680b",
   "metadata": {},
   "source": [
    "* the Encapsulation is method of combining properties and objects of same object"
   ]
  },
  {
   "cell_type": "markdown",
   "id": "b973fc8c-b423-4979-8c64-30e9e67efdf6",
   "metadata": {},
   "source": [
    "2.class:\n",
    "-"
   ]
  },
  {
   "cell_type": "markdown",
   "id": "1d214d83-8d24-493d-b5e3-69e7ec93fa83",
   "metadata": {},
   "source": [
    "* class is way to implementing Encapsulation.\n",
    "* class is like BluePrint (wirework)\n",
    "* class can contain ojects (members) & methos (member functions)\n",
    "\n",
    "                               "
   ]
  },
  {
   "cell_type": "code",
   "execution_count": 4,
   "id": "183c045d-dfa2-44d3-bc05-3f5083d2f3a0",
   "metadata": {},
   "outputs": [],
   "source": [
    "class teacher:\n",
    "    pass\n",
    "    # attributes"
   ]
  },
  {
   "cell_type": "markdown",
   "id": "2818c1c2-546c-4645-8c82-8339689255df",
   "metadata": {},
   "source": [
    "-----------------------------------------------------------------------------------"
   ]
  },
  {
   "cell_type": "markdown",
   "id": "43fd3c37-5569-4d9b-9091-ad6fc27b9927",
   "metadata": {},
   "source": [
    "3.Attributes:\n",
    " - \n",
    "* attrabutes are member variable & member functions.\n",
    "                                   \n"
   ]
  },
  {
   "cell_type": "code",
   "execution_count": 2,
   "id": "6f7cb705-fc57-42af-9cb9-9f7dc96fd6dc",
   "metadata": {},
   "outputs": [],
   "source": [
    "class test:                                      \n",
    "    x = 5                                       \n",
    "    def fun():                                  \n",
    "        pass"
   ]
  },
  {
   "cell_type": "markdown",
   "id": "866528d9-424a-4873-883a-b1d4a681b4af",
   "metadata": {},
   "source": [
    "        here, x & fun() is attributes of class\n",
    "-----------------------------------------------------------------------------------    "
   ]
  },
  {
   "cell_type": "markdown",
   "id": "c36eba5e-bab7-414d-83dd-61563e6787f4",
   "metadata": {},
   "source": [
    "4.Object:\n",
    "-\n",
    "* Object is instance (example) of class\n",
    "* there is main two types of objects:\n",
    "    * class object\n",
    "    * instance object\n",
    " \n",
    "            t1 = text()\n",
    "            t2 = test()\n",
    "\n",
    "          here, t1 & t2 are instance objects of class\n",
    "      \n",
    "-----------"
   ]
  },
  {
   "cell_type": "markdown",
   "id": "b4763cd2-f046-4411-8f70-865b92703d7d",
   "metadata": {},
   "source": [
    "5.Constructor:\n",
    "-\n",
    "* is special type of function which is automatically called when we create class object.\n",
    "* it is mandatory to pass at least one argument in constructor."
   ]
  },
  {
   "cell_type": "code",
   "execution_count": 17,
   "id": "1821afec-19e8-48fa-b59f-6e0009140b7b",
   "metadata": {},
   "outputs": [
    {
     "name": "stdout",
     "output_type": "stream",
     "text": [
      "jack  -  25\n",
      "lisa  -  19\n"
     ]
    }
   ],
   "source": [
    "class student:\n",
    "    # constructor\n",
    "    def __init__(self, name, rollno):\n",
    "        self.name= name\n",
    "        self.rollno= rollno\n",
    "\n",
    "\n",
    "s1 = student('jack', 25)       # object 1\n",
    "print(s1.name, ' - ', s1.rollno)\n",
    "\n",
    "s2 = student('lisa', 19)      # object 2\n",
    "print(s2.name, ' - ', s2.rollno)"
   ]
  },
  {
   "cell_type": "markdown",
   "id": "688422d0-a9d9-4e17-a4cf-95cdbbbb41ae",
   "metadata": {},
   "source": [
    "-----------------------\n",
    "\n",
    "6.Methods:\n",
    "-"
   ]
  },
  {
   "cell_type": "markdown",
   "id": "992915b0-1312-4f29-bbd9-c557d689def2",
   "metadata": {},
   "source": [
    "* there are mainly 3 type of methods:\n",
    "  \n",
    "  * instance method   --> at least one parameter need to pass\n",
    "  * static method     --> \" @staticmethod \" this decorator is used\n",
    "  * class method      --> at least one parameter and \" @classmethod \" decorator is used "
   ]
  },
  {
   "cell_type": "code",
   "execution_count": 19,
   "id": "30c9f7ee-ca31-4896-a3d8-c77549f0a25f",
   "metadata": {},
   "outputs": [],
   "source": [
    "class student:\n",
    "\n",
    "    # instance method\n",
    "    def fun1(self):\n",
    "        pass\n",
    "        \n",
    "\n",
    "    # static method\n",
    "    @staticmethod\n",
    "    def fun2():\n",
    "        pass\n",
    "        \n",
    "\n",
    "    # class method\n",
    "    @classmethod\n",
    "    def fun3(self):\n",
    "        pass\n",
    "        \n"
   ]
  },
  {
   "cell_type": "code",
   "execution_count": null,
   "id": "acd05435-88b2-4926-a907-1d3576aee3b6",
   "metadata": {},
   "outputs": [],
   "source": []
  },
  {
   "cell_type": "markdown",
   "id": "2c416e85-4967-47b6-9d8e-a6ddb65494c1",
   "metadata": {},
   "source": [
    "# expample:"
   ]
  },
  {
   "cell_type": "markdown",
   "id": "e4f39492-43cd-447b-a7fa-77e1b523a1fa",
   "metadata": {},
   "source": [
    "create a class employee with attributes emp_id, name, salary and also define methods to access properties of employees"
   ]
  },
  {
   "cell_type": "code",
   "execution_count": 31,
   "id": "a5e90ecb-393e-4cf6-9c55-62e65e8be367",
   "metadata": {},
   "outputs": [
    {
     "name": "stdout",
     "output_type": "stream",
     "text": [
      "0 - Rio - 10000\n",
      "1 - jack - 20000\n"
     ]
    }
   ],
   "source": [
    "class Employee:\n",
    "\n",
    "    def __init__(self, emp_id= None, name= None, salary= None):\n",
    "        self.emp_id = emp_id\n",
    "        self.name = name\n",
    "        self.salary = salary\n",
    "\n",
    "    def setEmpid(self, emp_id):\n",
    "        self.emp_id= emp_id\n",
    "\n",
    "    def setname(self, name):\n",
    "        self.name = name\n",
    "\n",
    "    def setsalary(self, salary):\n",
    "        self.salary= salary\n",
    "\n",
    "    # display data:\n",
    "\n",
    "    def getemp(self):\n",
    "        return self.emp_id\n",
    "        \n",
    "    def getname(self):\n",
    "        return self.name\n",
    "        \n",
    "    def getsalary(self):\n",
    "        return self.salary\n",
    "\n",
    "\n",
    "e1 = Employee()\n",
    "e2 = Employee( 1, 'jack', 20000)\n",
    "e3 = Employee( 2, 'lisa', 35000)\n",
    "\n",
    "e1.setEmpid(0)\n",
    "e1.setname('Rio')\n",
    "e1.setsalary(10000)\n",
    "\n",
    "print(e1.emp_id, \"-\", e1.name, \"-\",e1.salary)\n",
    "\n",
    "print(e2.emp_id, \"-\", e2.name, \"-\",e2.salary)"
   ]
  },
  {
   "cell_type": "code",
   "execution_count": null,
   "id": "c6738fe7-b394-4fd0-b3fc-128858eaf3e0",
   "metadata": {},
   "outputs": [],
   "source": []
  }
 ],
 "metadata": {
  "kernelspec": {
   "display_name": "Python 3 (ipykernel)",
   "language": "python",
   "name": "python3"
  },
  "language_info": {
   "codemirror_mode": {
    "name": "ipython",
    "version": 3
   },
   "file_extension": ".py",
   "mimetype": "text/x-python",
   "name": "python",
   "nbconvert_exporter": "python",
   "pygments_lexer": "ipython3",
   "version": "3.12.4"
  }
 },
 "nbformat": 4,
 "nbformat_minor": 5
}
