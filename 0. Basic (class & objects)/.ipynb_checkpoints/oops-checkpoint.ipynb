{
 "cells": [
  {
   "cell_type": "markdown",
   "id": "5407ed9b-0754-4c80-8879-a2c6474c56f2",
   "metadata": {},
   "source": [
    "## OOP's"
   ]
  },
  {
   "cell_type": "markdown",
   "id": "3f41a0f3-78da-4f1a-9987-7d6432cbf884",
   "metadata": {},
   "source": [
    "1.Encapsulation:\n",
    "--"
   ]
  },
  {
   "cell_type": "markdown",
   "id": "172dba82-a0ab-41b7-a73c-264b836e680b",
   "metadata": {},
   "source": [
    "* the Encapsulation is method of combining properties and objects of same object"
   ]
  },
  {
   "cell_type": "markdown",
   "id": "b973fc8c-b423-4979-8c64-30e9e67efdf6",
   "metadata": {},
   "source": [
    "2.class:\n",
    "-"
   ]
  },
  {
   "cell_type": "markdown",
   "id": "1d214d83-8d24-493d-b5e3-69e7ec93fa83",
   "metadata": {},
   "source": [
    "* class is way to implementing Encapsulation.\n",
    "* class is like BluePrint (wirework)\n",
    "* class can contain ojects (members) & methos (member functions)\n",
    "\n",
    "          class teacher:\n",
    "              # attributes\n",
    "\n",
    "* Attributes:\n",
    "  \n",
    "    * attrabutes are member variable & member functions.\n",
    "    * eg.                                    \n",
    "          class test:                                      \n",
    "                  x = 5                                       \n",
    "                  def fun():                                  \n",
    "                      # code                                       "
   ]
  },
  {
   "cell_type": "code",
   "execution_count": null,
   "id": "693be0e9-feca-493a-9c5c-d9300c2d721e",
   "metadata": {},
   "outputs": [],
   "source": []
  }
 ],
 "metadata": {
  "kernelspec": {
   "display_name": "Python 3 (ipykernel)",
   "language": "python",
   "name": "python3"
  },
  "language_info": {
   "codemirror_mode": {
    "name": "ipython",
    "version": 3
   },
   "file_extension": ".py",
   "mimetype": "text/x-python",
   "name": "python",
   "nbconvert_exporter": "python",
   "pygments_lexer": "ipython3",
   "version": "3.12.4"
  }
 },
 "nbformat": 4,
 "nbformat_minor": 5
}
